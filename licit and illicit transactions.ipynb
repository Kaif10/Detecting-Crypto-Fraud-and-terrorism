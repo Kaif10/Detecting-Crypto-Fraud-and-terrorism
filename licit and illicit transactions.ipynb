{
 "cells": [
  {
   "cell_type": "markdown",
   "metadata": {
    "papermill": {
     "duration": 0.033141,
     "end_time": "2020-11-17T14:47:08.726243",
     "exception": false,
     "start_time": "2020-11-17T14:47:08.693102",
     "status": "completed"
    },
    "tags": []
   },
   "source": [
    "## Import packages"
   ]
  },
  {
   "cell_type": "code",
   "execution_count": 43,
   "metadata": {
    "execution": {
     "iopub.execute_input": "2020-11-17T14:47:08.803893Z",
     "iopub.status.busy": "2020-11-17T14:47:08.801935Z",
     "iopub.status.idle": "2020-11-17T14:47:11.049038Z",
     "shell.execute_reply": "2020-11-17T14:47:11.048182Z"
    },
    "papermill": {
     "duration": 2.289982,
     "end_time": "2020-11-17T14:47:11.049260",
     "exception": false,
     "start_time": "2020-11-17T14:47:08.759278",
     "status": "completed"
    },
    "tags": []
   },
   "outputs": [],
   "source": [
    "import numpy as np\n",
    "import pandas as pd\n",
    "import matplotlib.pyplot as plt\n",
    "import seaborn as sns\n",
    "import networkx as nx"
   ]
  },
  {
   "cell_type": "markdown",
   "metadata": {
    "papermill": {
     "duration": 0.03586,
     "end_time": "2020-11-17T14:47:11.117375",
     "exception": false,
     "start_time": "2020-11-17T14:47:11.081515",
     "status": "completed"
    },
    "tags": []
   },
   "source": [
    "## Load Data"
   ]
  },
  {
   "cell_type": "code",
   "execution_count": 44,
   "metadata": {
    "execution": {
     "iopub.execute_input": "2020-11-17T14:47:11.197662Z",
     "iopub.status.busy": "2020-11-17T14:47:11.196215Z",
     "iopub.status.idle": "2020-11-17T14:47:25.321492Z",
     "shell.execute_reply": "2020-11-17T14:47:25.320758Z"
    },
    "papermill": {
     "duration": 14.169089,
     "end_time": "2020-11-17T14:47:25.321639",
     "exception": false,
     "start_time": "2020-11-17T14:47:11.152550",
     "status": "completed"
    },
    "tags": []
   },
   "outputs": [],
   "source": [
    "df_classes = pd.read_csv(\"E:\\main\\elliptic_bitcoin_dataset\\elliptic_txs_classes.csv\")\n",
    "df_edges = pd.read_csv(\"E:\\main\\elliptic_bitcoin_dataset\\elliptic_txs_edgelist.csv\")\n",
    "df_features = pd.read_csv(\"E:\\main\\elliptic_bitcoin_dataset\\elliptic_txs_features.csv\", header=None)"
   ]
  },
  {
   "cell_type": "markdown",
   "metadata": {
    "papermill": {
     "duration": 0.031878,
     "end_time": "2020-11-17T14:47:25.386466",
     "exception": false,
     "start_time": "2020-11-17T14:47:25.354588",
     "status": "completed"
    },
    "tags": []
   },
   "source": [
    "* Change column names"
   ]
  },
  {
   "cell_type": "code",
   "execution_count": 45,
   "metadata": {},
   "outputs": [
    {
     "data": {
      "text/html": [
       "<div>\n",
       "<style scoped>\n",
       "    .dataframe tbody tr th:only-of-type {\n",
       "        vertical-align: middle;\n",
       "    }\n",
       "\n",
       "    .dataframe tbody tr th {\n",
       "        vertical-align: top;\n",
       "    }\n",
       "\n",
       "    .dataframe thead th {\n",
       "        text-align: right;\n",
       "    }\n",
       "</style>\n",
       "<table border=\"1\" class=\"dataframe\">\n",
       "  <thead>\n",
       "    <tr style=\"text-align: right;\">\n",
       "      <th></th>\n",
       "      <th>txId</th>\n",
       "      <th>class</th>\n",
       "    </tr>\n",
       "  </thead>\n",
       "  <tbody>\n",
       "    <tr>\n",
       "      <td>0</td>\n",
       "      <td>230425980</td>\n",
       "      <td>unknown</td>\n",
       "    </tr>\n",
       "    <tr>\n",
       "      <td>1</td>\n",
       "      <td>5530458</td>\n",
       "      <td>unknown</td>\n",
       "    </tr>\n",
       "    <tr>\n",
       "      <td>2</td>\n",
       "      <td>232022460</td>\n",
       "      <td>unknown</td>\n",
       "    </tr>\n",
       "    <tr>\n",
       "      <td>3</td>\n",
       "      <td>232438397</td>\n",
       "      <td>2</td>\n",
       "    </tr>\n",
       "    <tr>\n",
       "      <td>4</td>\n",
       "      <td>230460314</td>\n",
       "      <td>unknown</td>\n",
       "    </tr>\n",
       "  </tbody>\n",
       "</table>\n",
       "</div>"
      ],
      "text/plain": [
       "        txId    class\n",
       "0  230425980  unknown\n",
       "1    5530458  unknown\n",
       "2  232022460  unknown\n",
       "3  232438397        2\n",
       "4  230460314  unknown"
      ]
     },
     "execution_count": 45,
     "metadata": {},
     "output_type": "execute_result"
    }
   ],
   "source": [
    "df_classes.head()"
   ]
  },
  {
   "cell_type": "code",
   "execution_count": 46,
   "metadata": {
    "execution": {
     "iopub.execute_input": "2020-11-17T14:47:25.462226Z",
     "iopub.status.busy": "2020-11-17T14:47:25.461389Z",
     "iopub.status.idle": "2020-11-17T14:47:25.465647Z",
     "shell.execute_reply": "2020-11-17T14:47:25.464928Z"
    },
    "papermill": {
     "duration": 0.047607,
     "end_time": "2020-11-17T14:47:25.465791",
     "exception": false,
     "start_time": "2020-11-17T14:47:25.418184",
     "status": "completed"
    },
    "tags": []
   },
   "outputs": [],
   "source": [
    "colNames1 = {'0': 'txId', 1: \"Time step\"}\n",
    "colNames2 = {str(ii+2): \"Local_feature_\" + str(ii+1) for ii in range(93)}\n",
    "colNames3 = {str(ii+95): \"Aggregate_feature_\" + str(ii+1) for ii in range(72)}\n",
    "\n",
    "colNames = dict(colNames1, **colNames2, **colNames3 )\n",
    "colNames = {int(jj): item_kk for jj,item_kk in colNames.items()}"
   ]
  },
  {
   "cell_type": "code",
   "execution_count": 47,
   "metadata": {
    "execution": {
     "iopub.execute_input": "2020-11-17T14:47:25.541174Z",
     "iopub.status.busy": "2020-11-17T14:47:25.539274Z",
     "iopub.status.idle": "2020-11-17T14:47:25.747871Z",
     "shell.execute_reply": "2020-11-17T14:47:25.747043Z"
    },
    "papermill": {
     "duration": 0.247837,
     "end_time": "2020-11-17T14:47:25.748012",
     "exception": false,
     "start_time": "2020-11-17T14:47:25.500175",
     "status": "completed"
    },
    "tags": []
   },
   "outputs": [
    {
     "data": {
      "text/html": [
       "<div>\n",
       "<style scoped>\n",
       "    .dataframe tbody tr th:only-of-type {\n",
       "        vertical-align: middle;\n",
       "    }\n",
       "\n",
       "    .dataframe tbody tr th {\n",
       "        vertical-align: top;\n",
       "    }\n",
       "\n",
       "    .dataframe thead th {\n",
       "        text-align: right;\n",
       "    }\n",
       "</style>\n",
       "<table border=\"1\" class=\"dataframe\">\n",
       "  <thead>\n",
       "    <tr style=\"text-align: right;\">\n",
       "      <th></th>\n",
       "      <th>txId</th>\n",
       "      <th>Time step</th>\n",
       "      <th>Local_feature_1</th>\n",
       "      <th>Local_feature_2</th>\n",
       "      <th>Local_feature_3</th>\n",
       "      <th>Local_feature_4</th>\n",
       "      <th>Local_feature_5</th>\n",
       "      <th>Local_feature_6</th>\n",
       "      <th>Local_feature_7</th>\n",
       "      <th>Local_feature_8</th>\n",
       "      <th>...</th>\n",
       "      <th>Aggregate_feature_63</th>\n",
       "      <th>Aggregate_feature_64</th>\n",
       "      <th>Aggregate_feature_65</th>\n",
       "      <th>Aggregate_feature_66</th>\n",
       "      <th>Aggregate_feature_67</th>\n",
       "      <th>Aggregate_feature_68</th>\n",
       "      <th>Aggregate_feature_69</th>\n",
       "      <th>Aggregate_feature_70</th>\n",
       "      <th>Aggregate_feature_71</th>\n",
       "      <th>Aggregate_feature_72</th>\n",
       "    </tr>\n",
       "  </thead>\n",
       "  <tbody>\n",
       "    <tr>\n",
       "      <td>0</td>\n",
       "      <td>230425980</td>\n",
       "      <td>1</td>\n",
       "      <td>-0.171469</td>\n",
       "      <td>-0.184668</td>\n",
       "      <td>-1.201369</td>\n",
       "      <td>-0.121970</td>\n",
       "      <td>-0.043875</td>\n",
       "      <td>-0.113002</td>\n",
       "      <td>-0.061584</td>\n",
       "      <td>-0.162097</td>\n",
       "      <td>...</td>\n",
       "      <td>-0.562153</td>\n",
       "      <td>-0.600999</td>\n",
       "      <td>1.461330</td>\n",
       "      <td>1.461369</td>\n",
       "      <td>0.018279</td>\n",
       "      <td>-0.087490</td>\n",
       "      <td>-0.131155</td>\n",
       "      <td>-0.097524</td>\n",
       "      <td>-0.120613</td>\n",
       "      <td>-0.119792</td>\n",
       "    </tr>\n",
       "    <tr>\n",
       "      <td>1</td>\n",
       "      <td>5530458</td>\n",
       "      <td>1</td>\n",
       "      <td>-0.171484</td>\n",
       "      <td>-0.184668</td>\n",
       "      <td>-1.201369</td>\n",
       "      <td>-0.121970</td>\n",
       "      <td>-0.043875</td>\n",
       "      <td>-0.113002</td>\n",
       "      <td>-0.061584</td>\n",
       "      <td>-0.162112</td>\n",
       "      <td>...</td>\n",
       "      <td>0.947382</td>\n",
       "      <td>0.673103</td>\n",
       "      <td>-0.979074</td>\n",
       "      <td>-0.978556</td>\n",
       "      <td>0.018279</td>\n",
       "      <td>-0.087490</td>\n",
       "      <td>-0.131155</td>\n",
       "      <td>-0.097524</td>\n",
       "      <td>-0.120613</td>\n",
       "      <td>-0.119792</td>\n",
       "    </tr>\n",
       "    <tr>\n",
       "      <td>2</td>\n",
       "      <td>232022460</td>\n",
       "      <td>1</td>\n",
       "      <td>-0.172107</td>\n",
       "      <td>-0.184668</td>\n",
       "      <td>-1.201369</td>\n",
       "      <td>-0.121970</td>\n",
       "      <td>-0.043875</td>\n",
       "      <td>-0.113002</td>\n",
       "      <td>-0.061584</td>\n",
       "      <td>-0.162749</td>\n",
       "      <td>...</td>\n",
       "      <td>0.670883</td>\n",
       "      <td>0.439728</td>\n",
       "      <td>-0.979074</td>\n",
       "      <td>-0.978556</td>\n",
       "      <td>-0.098889</td>\n",
       "      <td>-0.106715</td>\n",
       "      <td>-0.131155</td>\n",
       "      <td>-0.183671</td>\n",
       "      <td>-0.120613</td>\n",
       "      <td>-0.119792</td>\n",
       "    </tr>\n",
       "    <tr>\n",
       "      <td>3</td>\n",
       "      <td>232438397</td>\n",
       "      <td>1</td>\n",
       "      <td>0.163054</td>\n",
       "      <td>1.963790</td>\n",
       "      <td>-0.646376</td>\n",
       "      <td>12.409294</td>\n",
       "      <td>-0.063725</td>\n",
       "      <td>9.782742</td>\n",
       "      <td>12.414558</td>\n",
       "      <td>-0.163645</td>\n",
       "      <td>...</td>\n",
       "      <td>-0.577099</td>\n",
       "      <td>-0.613614</td>\n",
       "      <td>0.241128</td>\n",
       "      <td>0.241406</td>\n",
       "      <td>1.072793</td>\n",
       "      <td>0.085530</td>\n",
       "      <td>-0.131155</td>\n",
       "      <td>0.677799</td>\n",
       "      <td>-0.120613</td>\n",
       "      <td>-0.119792</td>\n",
       "    </tr>\n",
       "    <tr>\n",
       "      <td>4</td>\n",
       "      <td>230460314</td>\n",
       "      <td>1</td>\n",
       "      <td>1.011523</td>\n",
       "      <td>-0.081127</td>\n",
       "      <td>-1.201369</td>\n",
       "      <td>1.153668</td>\n",
       "      <td>0.333276</td>\n",
       "      <td>1.312656</td>\n",
       "      <td>-0.061584</td>\n",
       "      <td>-0.163523</td>\n",
       "      <td>...</td>\n",
       "      <td>-0.511871</td>\n",
       "      <td>-0.400422</td>\n",
       "      <td>0.517257</td>\n",
       "      <td>0.579382</td>\n",
       "      <td>0.018279</td>\n",
       "      <td>0.277775</td>\n",
       "      <td>0.326394</td>\n",
       "      <td>1.293750</td>\n",
       "      <td>0.178136</td>\n",
       "      <td>0.179117</td>\n",
       "    </tr>\n",
       "  </tbody>\n",
       "</table>\n",
       "<p>5 rows × 167 columns</p>\n",
       "</div>"
      ],
      "text/plain": [
       "        txId  Time step  Local_feature_1  Local_feature_2  Local_feature_3  \\\n",
       "0  230425980          1        -0.171469        -0.184668        -1.201369   \n",
       "1    5530458          1        -0.171484        -0.184668        -1.201369   \n",
       "2  232022460          1        -0.172107        -0.184668        -1.201369   \n",
       "3  232438397          1         0.163054         1.963790        -0.646376   \n",
       "4  230460314          1         1.011523        -0.081127        -1.201369   \n",
       "\n",
       "   Local_feature_4  Local_feature_5  Local_feature_6  Local_feature_7  \\\n",
       "0        -0.121970        -0.043875        -0.113002        -0.061584   \n",
       "1        -0.121970        -0.043875        -0.113002        -0.061584   \n",
       "2        -0.121970        -0.043875        -0.113002        -0.061584   \n",
       "3        12.409294        -0.063725         9.782742        12.414558   \n",
       "4         1.153668         0.333276         1.312656        -0.061584   \n",
       "\n",
       "   Local_feature_8  ...  Aggregate_feature_63  Aggregate_feature_64  \\\n",
       "0        -0.162097  ...             -0.562153             -0.600999   \n",
       "1        -0.162112  ...              0.947382              0.673103   \n",
       "2        -0.162749  ...              0.670883              0.439728   \n",
       "3        -0.163645  ...             -0.577099             -0.613614   \n",
       "4        -0.163523  ...             -0.511871             -0.400422   \n",
       "\n",
       "   Aggregate_feature_65  Aggregate_feature_66  Aggregate_feature_67  \\\n",
       "0              1.461330              1.461369              0.018279   \n",
       "1             -0.979074             -0.978556              0.018279   \n",
       "2             -0.979074             -0.978556             -0.098889   \n",
       "3              0.241128              0.241406              1.072793   \n",
       "4              0.517257              0.579382              0.018279   \n",
       "\n",
       "   Aggregate_feature_68  Aggregate_feature_69  Aggregate_feature_70  \\\n",
       "0             -0.087490             -0.131155             -0.097524   \n",
       "1             -0.087490             -0.131155             -0.097524   \n",
       "2             -0.106715             -0.131155             -0.183671   \n",
       "3              0.085530             -0.131155              0.677799   \n",
       "4              0.277775              0.326394              1.293750   \n",
       "\n",
       "   Aggregate_feature_71  Aggregate_feature_72  \n",
       "0             -0.120613             -0.119792  \n",
       "1             -0.120613             -0.119792  \n",
       "2             -0.120613             -0.119792  \n",
       "3             -0.120613             -0.119792  \n",
       "4              0.178136              0.179117  \n",
       "\n",
       "[5 rows x 167 columns]"
      ]
     },
     "execution_count": 47,
     "metadata": {},
     "output_type": "execute_result"
    }
   ],
   "source": [
    "df_features = df_features.rename(columns=colNames)\n",
    "df_features.head()"
   ]
  },
  {
   "cell_type": "code",
   "execution_count": 48,
   "metadata": {},
   "outputs": [
    {
     "data": {
      "text/html": [
       "<div>\n",
       "<style scoped>\n",
       "    .dataframe tbody tr th:only-of-type {\n",
       "        vertical-align: middle;\n",
       "    }\n",
       "\n",
       "    .dataframe tbody tr th {\n",
       "        vertical-align: top;\n",
       "    }\n",
       "\n",
       "    .dataframe thead th {\n",
       "        text-align: right;\n",
       "    }\n",
       "</style>\n",
       "<table border=\"1\" class=\"dataframe\">\n",
       "  <thead>\n",
       "    <tr style=\"text-align: right;\">\n",
       "      <th></th>\n",
       "      <th>txId</th>\n",
       "      <th>Time step</th>\n",
       "      <th>Local_feature_1</th>\n",
       "      <th>Local_feature_2</th>\n",
       "      <th>Local_feature_3</th>\n",
       "      <th>Local_feature_4</th>\n",
       "      <th>Local_feature_5</th>\n",
       "      <th>Local_feature_6</th>\n",
       "      <th>Local_feature_7</th>\n",
       "      <th>Local_feature_8</th>\n",
       "      <th>...</th>\n",
       "      <th>Aggregate_feature_63</th>\n",
       "      <th>Aggregate_feature_64</th>\n",
       "      <th>Aggregate_feature_65</th>\n",
       "      <th>Aggregate_feature_66</th>\n",
       "      <th>Aggregate_feature_67</th>\n",
       "      <th>Aggregate_feature_68</th>\n",
       "      <th>Aggregate_feature_69</th>\n",
       "      <th>Aggregate_feature_70</th>\n",
       "      <th>Aggregate_feature_71</th>\n",
       "      <th>Aggregate_feature_72</th>\n",
       "    </tr>\n",
       "  </thead>\n",
       "  <tbody>\n",
       "    <tr>\n",
       "      <td>0</td>\n",
       "      <td>230425980</td>\n",
       "      <td>1</td>\n",
       "      <td>-0.171469</td>\n",
       "      <td>-0.184668</td>\n",
       "      <td>-1.201369</td>\n",
       "      <td>-0.121970</td>\n",
       "      <td>-0.043875</td>\n",
       "      <td>-0.113002</td>\n",
       "      <td>-0.061584</td>\n",
       "      <td>-0.162097</td>\n",
       "      <td>...</td>\n",
       "      <td>-0.562153</td>\n",
       "      <td>-0.600999</td>\n",
       "      <td>1.461330</td>\n",
       "      <td>1.461369</td>\n",
       "      <td>0.018279</td>\n",
       "      <td>-0.087490</td>\n",
       "      <td>-0.131155</td>\n",
       "      <td>-0.097524</td>\n",
       "      <td>-0.120613</td>\n",
       "      <td>-0.119792</td>\n",
       "    </tr>\n",
       "    <tr>\n",
       "      <td>1</td>\n",
       "      <td>5530458</td>\n",
       "      <td>1</td>\n",
       "      <td>-0.171484</td>\n",
       "      <td>-0.184668</td>\n",
       "      <td>-1.201369</td>\n",
       "      <td>-0.121970</td>\n",
       "      <td>-0.043875</td>\n",
       "      <td>-0.113002</td>\n",
       "      <td>-0.061584</td>\n",
       "      <td>-0.162112</td>\n",
       "      <td>...</td>\n",
       "      <td>0.947382</td>\n",
       "      <td>0.673103</td>\n",
       "      <td>-0.979074</td>\n",
       "      <td>-0.978556</td>\n",
       "      <td>0.018279</td>\n",
       "      <td>-0.087490</td>\n",
       "      <td>-0.131155</td>\n",
       "      <td>-0.097524</td>\n",
       "      <td>-0.120613</td>\n",
       "      <td>-0.119792</td>\n",
       "    </tr>\n",
       "    <tr>\n",
       "      <td>2</td>\n",
       "      <td>232022460</td>\n",
       "      <td>1</td>\n",
       "      <td>-0.172107</td>\n",
       "      <td>-0.184668</td>\n",
       "      <td>-1.201369</td>\n",
       "      <td>-0.121970</td>\n",
       "      <td>-0.043875</td>\n",
       "      <td>-0.113002</td>\n",
       "      <td>-0.061584</td>\n",
       "      <td>-0.162749</td>\n",
       "      <td>...</td>\n",
       "      <td>0.670883</td>\n",
       "      <td>0.439728</td>\n",
       "      <td>-0.979074</td>\n",
       "      <td>-0.978556</td>\n",
       "      <td>-0.098889</td>\n",
       "      <td>-0.106715</td>\n",
       "      <td>-0.131155</td>\n",
       "      <td>-0.183671</td>\n",
       "      <td>-0.120613</td>\n",
       "      <td>-0.119792</td>\n",
       "    </tr>\n",
       "    <tr>\n",
       "      <td>3</td>\n",
       "      <td>232438397</td>\n",
       "      <td>1</td>\n",
       "      <td>0.163054</td>\n",
       "      <td>1.963790</td>\n",
       "      <td>-0.646376</td>\n",
       "      <td>12.409294</td>\n",
       "      <td>-0.063725</td>\n",
       "      <td>9.782742</td>\n",
       "      <td>12.414558</td>\n",
       "      <td>-0.163645</td>\n",
       "      <td>...</td>\n",
       "      <td>-0.577099</td>\n",
       "      <td>-0.613614</td>\n",
       "      <td>0.241128</td>\n",
       "      <td>0.241406</td>\n",
       "      <td>1.072793</td>\n",
       "      <td>0.085530</td>\n",
       "      <td>-0.131155</td>\n",
       "      <td>0.677799</td>\n",
       "      <td>-0.120613</td>\n",
       "      <td>-0.119792</td>\n",
       "    </tr>\n",
       "    <tr>\n",
       "      <td>4</td>\n",
       "      <td>230460314</td>\n",
       "      <td>1</td>\n",
       "      <td>1.011523</td>\n",
       "      <td>-0.081127</td>\n",
       "      <td>-1.201369</td>\n",
       "      <td>1.153668</td>\n",
       "      <td>0.333276</td>\n",
       "      <td>1.312656</td>\n",
       "      <td>-0.061584</td>\n",
       "      <td>-0.163523</td>\n",
       "      <td>...</td>\n",
       "      <td>-0.511871</td>\n",
       "      <td>-0.400422</td>\n",
       "      <td>0.517257</td>\n",
       "      <td>0.579382</td>\n",
       "      <td>0.018279</td>\n",
       "      <td>0.277775</td>\n",
       "      <td>0.326394</td>\n",
       "      <td>1.293750</td>\n",
       "      <td>0.178136</td>\n",
       "      <td>0.179117</td>\n",
       "    </tr>\n",
       "  </tbody>\n",
       "</table>\n",
       "<p>5 rows × 167 columns</p>\n",
       "</div>"
      ],
      "text/plain": [
       "        txId  Time step  Local_feature_1  Local_feature_2  Local_feature_3  \\\n",
       "0  230425980          1        -0.171469        -0.184668        -1.201369   \n",
       "1    5530458          1        -0.171484        -0.184668        -1.201369   \n",
       "2  232022460          1        -0.172107        -0.184668        -1.201369   \n",
       "3  232438397          1         0.163054         1.963790        -0.646376   \n",
       "4  230460314          1         1.011523        -0.081127        -1.201369   \n",
       "\n",
       "   Local_feature_4  Local_feature_5  Local_feature_6  Local_feature_7  \\\n",
       "0        -0.121970        -0.043875        -0.113002        -0.061584   \n",
       "1        -0.121970        -0.043875        -0.113002        -0.061584   \n",
       "2        -0.121970        -0.043875        -0.113002        -0.061584   \n",
       "3        12.409294        -0.063725         9.782742        12.414558   \n",
       "4         1.153668         0.333276         1.312656        -0.061584   \n",
       "\n",
       "   Local_feature_8  ...  Aggregate_feature_63  Aggregate_feature_64  \\\n",
       "0        -0.162097  ...             -0.562153             -0.600999   \n",
       "1        -0.162112  ...              0.947382              0.673103   \n",
       "2        -0.162749  ...              0.670883              0.439728   \n",
       "3        -0.163645  ...             -0.577099             -0.613614   \n",
       "4        -0.163523  ...             -0.511871             -0.400422   \n",
       "\n",
       "   Aggregate_feature_65  Aggregate_feature_66  Aggregate_feature_67  \\\n",
       "0              1.461330              1.461369              0.018279   \n",
       "1             -0.979074             -0.978556              0.018279   \n",
       "2             -0.979074             -0.978556             -0.098889   \n",
       "3              0.241128              0.241406              1.072793   \n",
       "4              0.517257              0.579382              0.018279   \n",
       "\n",
       "   Aggregate_feature_68  Aggregate_feature_69  Aggregate_feature_70  \\\n",
       "0             -0.087490             -0.131155             -0.097524   \n",
       "1             -0.087490             -0.131155             -0.097524   \n",
       "2             -0.106715             -0.131155             -0.183671   \n",
       "3              0.085530             -0.131155              0.677799   \n",
       "4              0.277775              0.326394              1.293750   \n",
       "\n",
       "   Aggregate_feature_71  Aggregate_feature_72  \n",
       "0             -0.120613             -0.119792  \n",
       "1             -0.120613             -0.119792  \n",
       "2             -0.120613             -0.119792  \n",
       "3             -0.120613             -0.119792  \n",
       "4              0.178136              0.179117  \n",
       "\n",
       "[5 rows x 167 columns]"
      ]
     },
     "execution_count": 48,
     "metadata": {},
     "output_type": "execute_result"
    }
   ],
   "source": [
    "df_features.head()"
   ]
  },
  {
   "cell_type": "markdown",
   "metadata": {
    "papermill": {
     "duration": 0.034061,
     "end_time": "2020-11-17T14:47:25.818331",
     "exception": false,
     "start_time": "2020-11-17T14:47:25.784270",
     "status": "completed"
    },
    "tags": []
   },
   "source": [
    "* Change class 'unknown' to 3"
   ]
  },
  {
   "cell_type": "code",
   "execution_count": 49,
   "metadata": {
    "execution": {
     "iopub.execute_input": "2020-11-17T14:47:25.935575Z",
     "iopub.status.busy": "2020-11-17T14:47:25.933410Z",
     "iopub.status.idle": "2020-11-17T14:47:25.953029Z",
     "shell.execute_reply": "2020-11-17T14:47:25.952242Z"
    },
    "papermill": {
     "duration": 0.098563,
     "end_time": "2020-11-17T14:47:25.953221",
     "exception": false,
     "start_time": "2020-11-17T14:47:25.854658",
     "status": "completed"
    },
    "tags": []
   },
   "outputs": [
    {
     "name": "stdout",
     "output_type": "stream",
     "text": [
      "Shape of classes (203769, 2)\n",
      "Shape of edges (234355, 2)\n",
      "Shape of features (203769, 167)\n"
     ]
    }
   ],
   "source": [
    "df_classes.loc[df_classes['class'] == 'unknown', 'class'] = 3\n",
    "print('Shape of classes', df_classes.shape)\n",
    "print('Shape of edges', df_edges.shape)\n",
    "print('Shape of features', df_features.shape)"
   ]
  },
  {
   "cell_type": "markdown",
   "metadata": {
    "papermill": {
     "duration": 0.037564,
     "end_time": "2020-11-17T14:47:26.026333",
     "exception": false,
     "start_time": "2020-11-17T14:47:25.988769",
     "status": "completed"
    },
    "tags": []
   },
   "source": [
    "<a id='eda'></a>\n",
    "## Exploratory Data Analysis (EDA)"
   ]
  },
  {
   "cell_type": "markdown",
   "metadata": {
    "papermill": {
     "duration": 0.034369,
     "end_time": "2020-11-17T14:47:26.095644",
     "exception": false,
     "start_time": "2020-11-17T14:47:26.061275",
     "status": "completed"
    },
    "tags": []
   },
   "source": [
    "* Quantity of transactions per class"
   ]
  },
  {
   "cell_type": "code",
   "execution_count": 50,
   "metadata": {
    "execution": {
     "iopub.execute_input": "2020-11-17T14:47:26.192522Z",
     "iopub.status.busy": "2020-11-17T14:47:26.191724Z",
     "iopub.status.idle": "2020-11-17T14:47:26.394023Z",
     "shell.execute_reply": "2020-11-17T14:47:26.393242Z"
    },
    "papermill": {
     "duration": 0.263183,
     "end_time": "2020-11-17T14:47:26.394195",
     "exception": false,
     "start_time": "2020-11-17T14:47:26.131012",
     "status": "completed"
    },
    "tags": []
   },
   "outputs": [
    {
     "data": {
      "text/plain": [
       "<BarContainer object of 3 artists>"
      ]
     },
     "execution_count": 50,
     "metadata": {},
     "output_type": "execute_result"
    },
    {
     "data": {
      "image/png": "[encoded data removed]",
      "text/plain": [
       "<Figure size 432x288 with 1 Axes>"
      ]
     },
     "metadata": {
      "needs_background": "light"
     },
     "output_type": "display_data"
    }
   ],
   "source": [
    "group_class = df_classes.groupby('class').count()\n",
    "plt.barh(['Unknown', 'Ilicit', 'Licit'], group_class['txId'].values, color=['orange', 'r', 'g'] )"
   ]
  },
  {
   "cell_type": "markdown",
   "metadata": {
    "papermill": {
     "duration": 0.035121,
     "end_time": "2020-11-17T14:47:26.464383",
     "exception": false,
     "start_time": "2020-11-17T14:47:26.429262",
     "status": "completed"
    },
    "tags": []
   },
   "source": [
    "* Number of transactions per Time step"
   ]
  },
  {
   "cell_type": "code",
   "execution_count": 51,
   "metadata": {
    "execution": {
     "iopub.execute_input": "2020-11-17T14:47:26.627215Z",
     "iopub.status.busy": "2020-11-17T14:47:26.626399Z",
     "iopub.status.idle": "2020-11-17T14:47:27.127376Z",
     "shell.execute_reply": "2020-11-17T14:47:27.128121Z"
    },
    "papermill": {
     "duration": 0.629419,
     "end_time": "2020-11-17T14:47:27.128306",
     "exception": false,
     "start_time": "2020-11-17T14:47:26.498887",
     "status": "completed"
    },
    "tags": []
   },
   "outputs": [
    {
     "data": {
      "text/plain": [
       "Text(0.5, 1.0, 'Number of transactions by Time step')"
      ]
     },
     "execution_count": 51,
     "metadata": {},
     "output_type": "execute_result"
    },
    {
     "data": {
      "image/png": "[encoded data removed]",
      "text/plain": [
       "<Figure size 432x288 with 1 Axes>"
      ]
     },
     "metadata": {
      "needs_background": "light"
     },
     "output_type": "display_data"
    }
   ],
   "source": [
    "group_feature = df_features.groupby('Time step').count()\n",
    "group_feature['txId'].plot()\n",
    "plt.title('Number of transactions by Time step')"
   ]
  },
  {
   "cell_type": "markdown",
   "metadata": {
    "papermill": {
     "duration": 0.039176,
     "end_time": "2020-11-17T14:47:27.206324",
     "exception": false,
     "start_time": "2020-11-17T14:47:27.167148",
     "status": "completed"
    },
    "tags": []
   },
   "source": [
    "* Number of transactions per class and timestep"
   ]
  },
  {
   "cell_type": "code",
   "execution_count": 52,
   "metadata": {
    "execution": {
     "iopub.execute_input": "2020-11-17T14:47:27.295312Z",
     "iopub.status.busy": "2020-11-17T14:47:27.293709Z",
     "iopub.status.idle": "2020-11-17T14:47:27.776477Z",
     "shell.execute_reply": "2020-11-17T14:47:27.777024Z"
    },
    "papermill": {
     "duration": 0.532174,
     "end_time": "2020-11-17T14:47:27.777212",
     "exception": false,
     "start_time": "2020-11-17T14:47:27.245038",
     "status": "completed"
    },
    "tags": []
   },
   "outputs": [
    {
     "data": {
      "text/html": [
       "<div>\n",
       "<style scoped>\n",
       "    .dataframe tbody tr th:only-of-type {\n",
       "        vertical-align: middle;\n",
       "    }\n",
       "\n",
       "    .dataframe tbody tr th {\n",
       "        vertical-align: top;\n",
       "    }\n",
       "\n",
       "    .dataframe thead th {\n",
       "        text-align: right;\n",
       "    }\n",
       "</style>\n",
       "<table border=\"1\" class=\"dataframe\">\n",
       "  <thead>\n",
       "    <tr style=\"text-align: right;\">\n",
       "      <th></th>\n",
       "      <th>txId</th>\n",
       "      <th>class</th>\n",
       "      <th>Time step</th>\n",
       "      <th>Local_feature_1</th>\n",
       "      <th>Local_feature_2</th>\n",
       "      <th>Local_feature_3</th>\n",
       "      <th>Local_feature_4</th>\n",
       "      <th>Local_feature_5</th>\n",
       "      <th>Local_feature_6</th>\n",
       "      <th>Local_feature_7</th>\n",
       "      <th>...</th>\n",
       "      <th>Aggregate_feature_63</th>\n",
       "      <th>Aggregate_feature_64</th>\n",
       "      <th>Aggregate_feature_65</th>\n",
       "      <th>Aggregate_feature_66</th>\n",
       "      <th>Aggregate_feature_67</th>\n",
       "      <th>Aggregate_feature_68</th>\n",
       "      <th>Aggregate_feature_69</th>\n",
       "      <th>Aggregate_feature_70</th>\n",
       "      <th>Aggregate_feature_71</th>\n",
       "      <th>Aggregate_feature_72</th>\n",
       "    </tr>\n",
       "  </thead>\n",
       "  <tbody>\n",
       "    <tr>\n",
       "      <td>0</td>\n",
       "      <td>230425980</td>\n",
       "      <td>3</td>\n",
       "      <td>1</td>\n",
       "      <td>-0.171469</td>\n",
       "      <td>-0.184668</td>\n",
       "      <td>-1.201369</td>\n",
       "      <td>-0.121970</td>\n",
       "      <td>-0.043875</td>\n",
       "      <td>-0.113002</td>\n",
       "      <td>-0.061584</td>\n",
       "      <td>...</td>\n",
       "      <td>-0.562153</td>\n",
       "      <td>-0.600999</td>\n",
       "      <td>1.461330</td>\n",
       "      <td>1.461369</td>\n",
       "      <td>0.018279</td>\n",
       "      <td>-0.087490</td>\n",
       "      <td>-0.131155</td>\n",
       "      <td>-0.097524</td>\n",
       "      <td>-0.120613</td>\n",
       "      <td>-0.119792</td>\n",
       "    </tr>\n",
       "    <tr>\n",
       "      <td>1</td>\n",
       "      <td>5530458</td>\n",
       "      <td>3</td>\n",
       "      <td>1</td>\n",
       "      <td>-0.171484</td>\n",
       "      <td>-0.184668</td>\n",
       "      <td>-1.201369</td>\n",
       "      <td>-0.121970</td>\n",
       "      <td>-0.043875</td>\n",
       "      <td>-0.113002</td>\n",
       "      <td>-0.061584</td>\n",
       "      <td>...</td>\n",
       "      <td>0.947382</td>\n",
       "      <td>0.673103</td>\n",
       "      <td>-0.979074</td>\n",
       "      <td>-0.978556</td>\n",
       "      <td>0.018279</td>\n",
       "      <td>-0.087490</td>\n",
       "      <td>-0.131155</td>\n",
       "      <td>-0.097524</td>\n",
       "      <td>-0.120613</td>\n",
       "      <td>-0.119792</td>\n",
       "    </tr>\n",
       "    <tr>\n",
       "      <td>2</td>\n",
       "      <td>232022460</td>\n",
       "      <td>3</td>\n",
       "      <td>1</td>\n",
       "      <td>-0.172107</td>\n",
       "      <td>-0.184668</td>\n",
       "      <td>-1.201369</td>\n",
       "      <td>-0.121970</td>\n",
       "      <td>-0.043875</td>\n",
       "      <td>-0.113002</td>\n",
       "      <td>-0.061584</td>\n",
       "      <td>...</td>\n",
       "      <td>0.670883</td>\n",
       "      <td>0.439728</td>\n",
       "      <td>-0.979074</td>\n",
       "      <td>-0.978556</td>\n",
       "      <td>-0.098889</td>\n",
       "      <td>-0.106715</td>\n",
       "      <td>-0.131155</td>\n",
       "      <td>-0.183671</td>\n",
       "      <td>-0.120613</td>\n",
       "      <td>-0.119792</td>\n",
       "    </tr>\n",
       "    <tr>\n",
       "      <td>3</td>\n",
       "      <td>232438397</td>\n",
       "      <td>2</td>\n",
       "      <td>1</td>\n",
       "      <td>0.163054</td>\n",
       "      <td>1.963790</td>\n",
       "      <td>-0.646376</td>\n",
       "      <td>12.409294</td>\n",
       "      <td>-0.063725</td>\n",
       "      <td>9.782742</td>\n",
       "      <td>12.414558</td>\n",
       "      <td>...</td>\n",
       "      <td>-0.577099</td>\n",
       "      <td>-0.613614</td>\n",
       "      <td>0.241128</td>\n",
       "      <td>0.241406</td>\n",
       "      <td>1.072793</td>\n",
       "      <td>0.085530</td>\n",
       "      <td>-0.131155</td>\n",
       "      <td>0.677799</td>\n",
       "      <td>-0.120613</td>\n",
       "      <td>-0.119792</td>\n",
       "    </tr>\n",
       "    <tr>\n",
       "      <td>4</td>\n",
       "      <td>230460314</td>\n",
       "      <td>3</td>\n",
       "      <td>1</td>\n",
       "      <td>1.011523</td>\n",
       "      <td>-0.081127</td>\n",
       "      <td>-1.201369</td>\n",
       "      <td>1.153668</td>\n",
       "      <td>0.333276</td>\n",
       "      <td>1.312656</td>\n",
       "      <td>-0.061584</td>\n",
       "      <td>...</td>\n",
       "      <td>-0.511871</td>\n",
       "      <td>-0.400422</td>\n",
       "      <td>0.517257</td>\n",
       "      <td>0.579382</td>\n",
       "      <td>0.018279</td>\n",
       "      <td>0.277775</td>\n",
       "      <td>0.326394</td>\n",
       "      <td>1.293750</td>\n",
       "      <td>0.178136</td>\n",
       "      <td>0.179117</td>\n",
       "    </tr>\n",
       "  </tbody>\n",
       "</table>\n",
       "<p>5 rows × 168 columns</p>\n",
       "</div>"
      ],
      "text/plain": [
       "        txId class  Time step  Local_feature_1  Local_feature_2  \\\n",
       "0  230425980     3          1        -0.171469        -0.184668   \n",
       "1    5530458     3          1        -0.171484        -0.184668   \n",
       "2  232022460     3          1        -0.172107        -0.184668   \n",
       "3  232438397     2          1         0.163054         1.963790   \n",
       "4  230460314     3          1         1.011523        -0.081127   \n",
       "\n",
       "   Local_feature_3  Local_feature_4  Local_feature_5  Local_feature_6  \\\n",
       "0        -1.201369        -0.121970        -0.043875        -0.113002   \n",
       "1        -1.201369        -0.121970        -0.043875        -0.113002   \n",
       "2        -1.201369        -0.121970        -0.043875        -0.113002   \n",
       "3        -0.646376        12.409294        -0.063725         9.782742   \n",
       "4        -1.201369         1.153668         0.333276         1.312656   \n",
       "\n",
       "   Local_feature_7  ...  Aggregate_feature_63  Aggregate_feature_64  \\\n",
       "0        -0.061584  ...             -0.562153             -0.600999   \n",
       "1        -0.061584  ...              0.947382              0.673103   \n",
       "2        -0.061584  ...              0.670883              0.439728   \n",
       "3        12.414558  ...             -0.577099             -0.613614   \n",
       "4        -0.061584  ...             -0.511871             -0.400422   \n",
       "\n",
       "   Aggregate_feature_65  Aggregate_feature_66  Aggregate_feature_67  \\\n",
       "0              1.461330              1.461369              0.018279   \n",
       "1             -0.979074             -0.978556              0.018279   \n",
       "2             -0.979074             -0.978556             -0.098889   \n",
       "3              0.241128              0.241406              1.072793   \n",
       "4              0.517257              0.579382              0.018279   \n",
       "\n",
       "   Aggregate_feature_68  Aggregate_feature_69  Aggregate_feature_70  \\\n",
       "0             -0.087490             -0.131155             -0.097524   \n",
       "1             -0.087490             -0.131155             -0.097524   \n",
       "2             -0.106715             -0.131155             -0.183671   \n",
       "3              0.085530             -0.131155              0.677799   \n",
       "4              0.277775              0.326394              1.293750   \n",
       "\n",
       "   Aggregate_feature_71  Aggregate_feature_72  \n",
       "0             -0.120613             -0.119792  \n",
       "1             -0.120613             -0.119792  \n",
       "2             -0.120613             -0.119792  \n",
       "3             -0.120613             -0.119792  \n",
       "4              0.178136              0.179117  \n",
       "\n",
       "[5 rows x 168 columns]"
      ]
     },
     "execution_count": 52,
     "metadata": {},
     "output_type": "execute_result"
    }
   ],
   "source": [
    "# Merge Class and features\n",
    "df_class_feature = pd.merge(df_classes, df_features )\n",
    "df_class_feature.head()"
   ]
  },
  {
   "cell_type": "code",
   "execution_count": 53,
   "metadata": {
    "execution": {
     "iopub.execute_input": "2020-11-17T14:47:27.861519Z",
     "iopub.status.busy": "2020-11-17T14:47:27.860226Z",
     "iopub.status.idle": "2020-11-17T14:47:28.191718Z",
     "shell.execute_reply": "2020-11-17T14:47:28.192341Z"
    },
    "papermill": {
     "duration": 0.378154,
     "end_time": "2020-11-17T14:47:28.192543",
     "exception": false,
     "start_time": "2020-11-17T14:47:27.814389",
     "status": "completed"
    },
    "tags": []
   },
   "outputs": [
    {
     "data": {
      "text/html": [
       "<div>\n",
       "<style scoped>\n",
       "    .dataframe tbody tr th:only-of-type {\n",
       "        vertical-align: middle;\n",
       "    }\n",
       "\n",
       "    .dataframe tbody tr th {\n",
       "        vertical-align: top;\n",
       "    }\n",
       "\n",
       "    .dataframe thead th {\n",
       "        text-align: right;\n",
       "    }\n",
       "</style>\n",
       "<table border=\"1\" class=\"dataframe\">\n",
       "  <thead>\n",
       "    <tr style=\"text-align: right;\">\n",
       "      <th></th>\n",
       "      <th>Time step</th>\n",
       "      <th>class</th>\n",
       "      <th>count</th>\n",
       "    </tr>\n",
       "  </thead>\n",
       "  <tbody>\n",
       "    <tr>\n",
       "      <td>0</td>\n",
       "      <td>1</td>\n",
       "      <td>3</td>\n",
       "      <td>5733</td>\n",
       "    </tr>\n",
       "    <tr>\n",
       "      <td>1</td>\n",
       "      <td>1</td>\n",
       "      <td>1</td>\n",
       "      <td>17</td>\n",
       "    </tr>\n",
       "    <tr>\n",
       "      <td>2</td>\n",
       "      <td>1</td>\n",
       "      <td>2</td>\n",
       "      <td>2130</td>\n",
       "    </tr>\n",
       "    <tr>\n",
       "      <td>3</td>\n",
       "      <td>2</td>\n",
       "      <td>3</td>\n",
       "      <td>3427</td>\n",
       "    </tr>\n",
       "    <tr>\n",
       "      <td>4</td>\n",
       "      <td>2</td>\n",
       "      <td>1</td>\n",
       "      <td>18</td>\n",
       "    </tr>\n",
       "  </tbody>\n",
       "</table>\n",
       "</div>"
      ],
      "text/plain": [
       "   Time step class  count\n",
       "0          1     3   5733\n",
       "1          1     1     17\n",
       "2          1     2   2130\n",
       "3          2     3   3427\n",
       "4          2     1     18"
      ]
     },
     "execution_count": 53,
     "metadata": {},
     "output_type": "execute_result"
    }
   ],
   "source": [
    "group_class_feature = df_class_feature.groupby(['Time step', 'class']).count()\n",
    "#plt.barh(['Unknown', 'Ilicit', 'Licit'], group_class['txId'].values, color=['orange', 'r', 'g'] )\n",
    "group_class_feature = group_class_feature['txId'].reset_index().rename(columns={'txId': 'count'})#unstack()\n",
    "group_class_feature.head()"
   ]
  },
  {
   "cell_type": "code",
   "execution_count": 54,
   "metadata": {
    "execution": {
     "iopub.execute_input": "2020-11-17T14:47:28.385981Z",
     "iopub.status.busy": "2020-11-17T14:47:28.282897Z",
     "iopub.status.idle": "2020-11-17T14:47:28.661589Z",
     "shell.execute_reply": "2020-11-17T14:47:28.662239Z"
    },
    "papermill": {
     "duration": 0.429265,
     "end_time": "2020-11-17T14:47:28.662425",
     "exception": false,
     "start_time": "2020-11-17T14:47:28.233160",
     "status": "completed"
    },
    "tags": []
   },
   "outputs": [
    {
     "data": {
      "text/plain": [
       "<matplotlib.axes._subplots.AxesSubplot at 0x189220d5148>"
      ]
     },
     "execution_count": 54,
     "metadata": {},
     "output_type": "execute_result"
    },
    {
     "data": {
      "image/png": "[encoded data removed]",
      "text/plain": [
       "<Figure size 432x288 with 1 Axes>"
      ]
     },
     "metadata": {
      "needs_background": "light"
     },
     "output_type": "display_data"
    }
   ],
   "source": [
    "sns.lineplot(x='Time step', y='count', hue='class', data = group_class_feature, palette=['g', 'orange', 'r'] )"
   ]
  },
  {
   "cell_type": "markdown",
   "metadata": {
    "papermill": {
     "duration": 0.042188,
     "end_time": "2020-11-17T14:47:29.343521",
     "exception": false,
     "start_time": "2020-11-17T14:47:29.301333",
     "status": "completed"
    },
    "tags": []
   },
   "source": [
    "<a id='graphs'></a>\n",
    "# Graphs\n",
    "* Ilicit transactions at time step 20"
   ]
  },
  {
   "cell_type": "code",
   "execution_count": 55,
   "metadata": {
    "execution": {
     "iopub.execute_input": "2020-11-17T14:47:29.475756Z",
     "iopub.status.busy": "2020-11-17T14:47:29.474847Z",
     "iopub.status.idle": "2020-11-17T14:47:30.689160Z",
     "shell.execute_reply": "2020-11-17T14:47:30.688343Z"
    },
    "papermill": {
     "duration": 1.301737,
     "end_time": "2020-11-17T14:47:30.689293",
     "exception": false,
     "start_time": "2020-11-17T14:47:29.387556",
     "status": "completed"
    },
    "tags": []
   },
   "outputs": [
    {
     "data": {
      "image/png": "[encoded data removed]",
      "text/plain": [
       "<Figure size 432x288 with 1 Axes>"
      ]
     },
     "metadata": {},
     "output_type": "display_data"
    }
   ],
   "source": [
    "ilicit_ids = df_class_feature.loc[(df_class_feature['Time step'] == 20) & (df_class_feature['class'] == '1'), 'txId']\n",
    "ilicit_edges = df_edges.loc[df_edges['txId1'].isin(ilicit_ids)]\n",
    "\n",
    "graph = nx.from_pandas_edgelist(ilicit_edges, source = 'txId1', target = 'txId2', \n",
    "                                 create_using = nx.DiGraph())\n",
    "pos = nx.spring_layout(graph)\n",
    "nx.draw(graph, with_labels=False, pos=pos)"
   ]
  },
  {
   "cell_type": "code",
   "execution_count": 56,
   "metadata": {
    "execution": {
     "iopub.execute_input": "2020-11-17T14:47:30.825838Z",
     "iopub.status.busy": "2020-11-17T14:47:30.824984Z",
     "iopub.status.idle": "2020-11-17T14:47:41.393355Z",
     "shell.execute_reply": "2020-11-17T14:47:41.392462Z"
    },
    "papermill": {
     "duration": 10.659353,
     "end_time": "2020-11-17T14:47:41.393533",
     "exception": false,
     "start_time": "2020-11-17T14:47:30.734180",
     "status": "completed"
    },
    "tags": []
   },
   "outputs": [
    {
     "data": {
      "image/png": "[encoded data removed]",
      "text/plain": [
       "<Figure size 432x288 with 1 Axes>"
      ]
     },
     "metadata": {},
     "output_type": "display_data"
    }
   ],
   "source": [
    "licit_ids = df_class_feature.loc[(df_class_feature['Time step'] == 20) & (df_class_feature['class'] == '2'), 'txId']\n",
    "licit_edges = df_edges.loc[df_edges['txId1'].isin(licit_ids)]\n",
    "\n",
    "graph = nx.from_pandas_edgelist(licit_edges, source = 'txId1', target = 'txId2', \n",
    "                                 create_using = nx.DiGraph())\n",
    "pos = nx.spring_layout(graph)\n",
    "nx.draw(graph, with_labels=False, pos=pos)"
   ]
  },
  {
   "cell_type": "code",
   "execution_count": 58,
   "metadata": {},
   "outputs": [
    {
     "data": {
      "image/png": "[encoded data removed]",
      "text/plain": [
       "<Figure size 432x288 with 1 Axes>"
      ]
     },
     "metadata": {},
     "output_type": "display_data"
    }
   ],
   "source": [
    "import networkx as nx\n",
    "import matplotlib.pyplot as plt\n",
    "\n",
    "# Assuming df_class_feature and df_edges are already defined and loaded\n",
    "\n",
    "# Filter licit transactions\n",
    "licit_ids = df_class_feature.loc[(df_class_feature['Time step'] == 20) & (df_class_feature['class'] == '2'), 'txId']\n",
    "licit_edges = df_edges.loc[df_edges['txId1'].isin(licit_ids)]\n",
    "\n",
    "# Filter illicit transactions\n",
    "illicit_ids = df_class_feature.loc[(df_class_feature['Time step'] == 20) & (df_class_feature['class'] == '1'), 'txId']\n",
    "illicit_edges = df_edges.loc[df_edges['txId1'].isin(illicit_ids)]\n",
    "\n",
    "# Create licit graph\n",
    "licit_graph = nx.from_pandas_edgelist(licit_edges, source='txId1', target='txId2', create_using=nx.DiGraph())\n",
    "\n",
    "# Create illicit graph\n",
    "illicit_graph = nx.from_pandas_edgelist(illicit_edges, source='txId1', target='txId2', create_using=nx.DiGraph())\n",
    "\n",
    "# Combine graphs\n",
    "combined_graph = nx.compose(licit_graph, illicit_graph)\n",
    "\n",
    "# Get positions for all nodes\n",
    "pos = nx.spring_layout(combined_graph)\n",
    "\n",
    "# Draw licit nodes in blue\n",
    "nx.draw_networkx_nodes(licit_graph, pos, node_color='blue', node_size=20, label='Licit')\n",
    "nx.draw_networkx_edges(licit_graph, pos, edge_color='blue', alpha=0.5)\n",
    "\n",
    "# Draw illicit nodes in red\n",
    "nx.draw_networkx_nodes(illicit_graph, pos, node_color='red', node_size=20, label='Illicit')\n",
    "nx.draw_networkx_edges(illicit_graph, pos, edge_color='red', alpha=0.5)\n",
    "\n",
    "# Draw labels if needed (optional)\n",
    "# nx.draw_networkx_labels(combined_graph, pos, font_size=8)\n",
    "\n",
    "# Show plot with legend\n",
    "plt.legend(scatterpoints=1)\n",
    "plt.title(\"Licit and Illicit Transaction Network\")\n",
    "plt.show()\n"
   ]
  },
  {
   "cell_type": "markdown",
   "metadata": {
    "papermill": {
     "duration": 0.048054,
     "end_time": "2020-11-17T14:47:41.488559",
     "exception": false,
     "start_time": "2020-11-17T14:47:41.440505",
     "status": "completed"
    },
    "tags": []
   },
   "source": [
    "<a id='prediction'></a>\n",
    "# Prediction of ilicit transactions\n",
    "## Import packages"
   ]
  },
  {
   "cell_type": "code",
   "execution_count": 33,
   "metadata": {
    "execution": {
     "iopub.execute_input": "2020-11-17T14:47:41.587573Z",
     "iopub.status.busy": "2020-11-17T14:47:41.586752Z",
     "iopub.status.idle": "2020-11-17T14:47:41.926985Z",
     "shell.execute_reply": "2020-11-17T14:47:41.926012Z"
    },
    "papermill": {
     "duration": 0.392372,
     "end_time": "2020-11-17T14:47:41.927166",
     "exception": false,
     "start_time": "2020-11-17T14:47:41.534794",
     "status": "completed"
    },
    "tags": []
   },
   "outputs": [],
   "source": [
    "from sklearn.model_selection import train_test_split\n",
    "from sklearn.ensemble import RandomForestClassifier\n",
    "from sklearn.metrics import precision_recall_fscore_support"
   ]
  },
  {
   "cell_type": "markdown",
   "metadata": {
    "papermill": {
     "duration": 0.050406,
     "end_time": "2020-11-17T14:47:42.025686",
     "exception": false,
     "start_time": "2020-11-17T14:47:41.975280",
     "status": "completed"
    },
    "tags": []
   },
   "source": [
    "## Initial Data\n",
    "* First we pick the class 1 or 2 transactions only"
   ]
  },
  {
   "cell_type": "code",
   "execution_count": 34,
   "metadata": {
    "execution": {
     "iopub.execute_input": "2020-11-17T14:47:42.160745Z",
     "iopub.status.busy": "2020-11-17T14:47:42.159926Z",
     "iopub.status.idle": "2020-11-17T14:47:42.309110Z",
     "shell.execute_reply": "2020-11-17T14:47:42.308292Z"
    },
    "papermill": {
     "duration": 0.236478,
     "end_time": "2020-11-17T14:47:42.309263",
     "exception": false,
     "start_time": "2020-11-17T14:47:42.072785",
     "status": "completed"
    },
    "tags": []
   },
   "outputs": [
    {
     "data": {
      "text/html": [
       "<div>\n",
       "<style scoped>\n",
       "    .dataframe tbody tr th:only-of-type {\n",
       "        vertical-align: middle;\n",
       "    }\n",
       "\n",
       "    .dataframe tbody tr th {\n",
       "        vertical-align: top;\n",
       "    }\n",
       "\n",
       "    .dataframe thead th {\n",
       "        text-align: right;\n",
       "    }\n",
       "</style>\n",
       "<table border=\"1\" class=\"dataframe\">\n",
       "  <thead>\n",
       "    <tr style=\"text-align: right;\">\n",
       "      <th></th>\n",
       "      <th>txId</th>\n",
       "      <th>class</th>\n",
       "      <th>Time step</th>\n",
       "      <th>Local_feature_1</th>\n",
       "      <th>Local_feature_2</th>\n",
       "      <th>Local_feature_3</th>\n",
       "      <th>Local_feature_4</th>\n",
       "      <th>Local_feature_5</th>\n",
       "      <th>Local_feature_6</th>\n",
       "      <th>Local_feature_7</th>\n",
       "      <th>...</th>\n",
       "      <th>Aggregate_feature_63</th>\n",
       "      <th>Aggregate_feature_64</th>\n",
       "      <th>Aggregate_feature_65</th>\n",
       "      <th>Aggregate_feature_66</th>\n",
       "      <th>Aggregate_feature_67</th>\n",
       "      <th>Aggregate_feature_68</th>\n",
       "      <th>Aggregate_feature_69</th>\n",
       "      <th>Aggregate_feature_70</th>\n",
       "      <th>Aggregate_feature_71</th>\n",
       "      <th>Aggregate_feature_72</th>\n",
       "    </tr>\n",
       "  </thead>\n",
       "  <tbody>\n",
       "    <tr>\n",
       "      <td>0</td>\n",
       "      <td>232438397</td>\n",
       "      <td>2</td>\n",
       "      <td>1</td>\n",
       "      <td>0.163054</td>\n",
       "      <td>1.963790</td>\n",
       "      <td>-0.646376</td>\n",
       "      <td>12.409294</td>\n",
       "      <td>-0.063725</td>\n",
       "      <td>9.782742</td>\n",
       "      <td>12.414558</td>\n",
       "      <td>...</td>\n",
       "      <td>-0.577099</td>\n",
       "      <td>-0.613614</td>\n",
       "      <td>0.241128</td>\n",
       "      <td>0.241406</td>\n",
       "      <td>1.072793</td>\n",
       "      <td>0.085530</td>\n",
       "      <td>-0.131155</td>\n",
       "      <td>0.677799</td>\n",
       "      <td>-0.120613</td>\n",
       "      <td>-0.119792</td>\n",
       "    </tr>\n",
       "    <tr>\n",
       "      <td>1</td>\n",
       "      <td>232029206</td>\n",
       "      <td>2</td>\n",
       "      <td>1</td>\n",
       "      <td>-0.005027</td>\n",
       "      <td>0.578941</td>\n",
       "      <td>-0.091383</td>\n",
       "      <td>4.380281</td>\n",
       "      <td>-0.063725</td>\n",
       "      <td>4.667146</td>\n",
       "      <td>0.851305</td>\n",
       "      <td>...</td>\n",
       "      <td>-0.577099</td>\n",
       "      <td>-0.613614</td>\n",
       "      <td>0.241128</td>\n",
       "      <td>0.241406</td>\n",
       "      <td>0.604120</td>\n",
       "      <td>0.008632</td>\n",
       "      <td>-0.131155</td>\n",
       "      <td>0.333211</td>\n",
       "      <td>-0.120613</td>\n",
       "      <td>-0.119792</td>\n",
       "    </tr>\n",
       "    <tr>\n",
       "      <td>2</td>\n",
       "      <td>232344069</td>\n",
       "      <td>2</td>\n",
       "      <td>1</td>\n",
       "      <td>-0.147852</td>\n",
       "      <td>-0.184668</td>\n",
       "      <td>-1.201369</td>\n",
       "      <td>-0.121970</td>\n",
       "      <td>-0.043875</td>\n",
       "      <td>-0.113002</td>\n",
       "      <td>-0.061584</td>\n",
       "      <td>...</td>\n",
       "      <td>-0.577099</td>\n",
       "      <td>-0.613614</td>\n",
       "      <td>0.241128</td>\n",
       "      <td>0.241406</td>\n",
       "      <td>0.018279</td>\n",
       "      <td>-0.087490</td>\n",
       "      <td>-0.131155</td>\n",
       "      <td>-0.097524</td>\n",
       "      <td>-0.120613</td>\n",
       "      <td>-0.119792</td>\n",
       "    </tr>\n",
       "    <tr>\n",
       "      <td>3</td>\n",
       "      <td>27553029</td>\n",
       "      <td>2</td>\n",
       "      <td>1</td>\n",
       "      <td>-0.151357</td>\n",
       "      <td>-0.184668</td>\n",
       "      <td>-1.201369</td>\n",
       "      <td>-0.121970</td>\n",
       "      <td>-0.043875</td>\n",
       "      <td>-0.113002</td>\n",
       "      <td>-0.061584</td>\n",
       "      <td>...</td>\n",
       "      <td>-0.539735</td>\n",
       "      <td>-0.582077</td>\n",
       "      <td>-0.979074</td>\n",
       "      <td>-0.978556</td>\n",
       "      <td>0.018279</td>\n",
       "      <td>-0.087490</td>\n",
       "      <td>-0.131155</td>\n",
       "      <td>-0.097524</td>\n",
       "      <td>-0.120613</td>\n",
       "      <td>-0.119792</td>\n",
       "    </tr>\n",
       "    <tr>\n",
       "      <td>4</td>\n",
       "      <td>3881097</td>\n",
       "      <td>2</td>\n",
       "      <td>1</td>\n",
       "      <td>-0.172306</td>\n",
       "      <td>-0.184668</td>\n",
       "      <td>-1.201369</td>\n",
       "      <td>0.028105</td>\n",
       "      <td>-0.043875</td>\n",
       "      <td>-0.029140</td>\n",
       "      <td>0.242712</td>\n",
       "      <td>...</td>\n",
       "      <td>-0.577099</td>\n",
       "      <td>-0.600999</td>\n",
       "      <td>0.241128</td>\n",
       "      <td>0.241406</td>\n",
       "      <td>0.018279</td>\n",
       "      <td>-0.068266</td>\n",
       "      <td>-0.084674</td>\n",
       "      <td>-0.054450</td>\n",
       "      <td>-1.760926</td>\n",
       "      <td>-1.760984</td>\n",
       "    </tr>\n",
       "  </tbody>\n",
       "</table>\n",
       "<p>5 rows × 168 columns</p>\n",
       "</div>"
      ],
      "text/plain": [
       "        txId class  Time step  Local_feature_1  Local_feature_2  \\\n",
       "0  232438397     2          1         0.163054         1.963790   \n",
       "1  232029206     2          1        -0.005027         0.578941   \n",
       "2  232344069     2          1        -0.147852        -0.184668   \n",
       "3   27553029     2          1        -0.151357        -0.184668   \n",
       "4    3881097     2          1        -0.172306        -0.184668   \n",
       "\n",
       "   Local_feature_3  Local_feature_4  Local_feature_5  Local_feature_6  \\\n",
       "0        -0.646376        12.409294        -0.063725         9.782742   \n",
       "1        -0.091383         4.380281        -0.063725         4.667146   \n",
       "2        -1.201369        -0.121970        -0.043875        -0.113002   \n",
       "3        -1.201369        -0.121970        -0.043875        -0.113002   \n",
       "4        -1.201369         0.028105        -0.043875        -0.029140   \n",
       "\n",
       "   Local_feature_7  ...  Aggregate_feature_63  Aggregate_feature_64  \\\n",
       "0        12.414558  ...             -0.577099             -0.613614   \n",
       "1         0.851305  ...             -0.577099             -0.613614   \n",
       "2        -0.061584  ...             -0.577099             -0.613614   \n",
       "3        -0.061584  ...             -0.539735             -0.582077   \n",
       "4         0.242712  ...             -0.577099             -0.600999   \n",
       "\n",
       "   Aggregate_feature_65  Aggregate_feature_66  Aggregate_feature_67  \\\n",
       "0              0.241128              0.241406              1.072793   \n",
       "1              0.241128              0.241406              0.604120   \n",
       "2              0.241128              0.241406              0.018279   \n",
       "3             -0.979074             -0.978556              0.018279   \n",
       "4              0.241128              0.241406              0.018279   \n",
       "\n",
       "   Aggregate_feature_68  Aggregate_feature_69  Aggregate_feature_70  \\\n",
       "0              0.085530             -0.131155              0.677799   \n",
       "1              0.008632             -0.131155              0.333211   \n",
       "2             -0.087490             -0.131155             -0.097524   \n",
       "3             -0.087490             -0.131155             -0.097524   \n",
       "4             -0.068266             -0.084674             -0.054450   \n",
       "\n",
       "   Aggregate_feature_71  Aggregate_feature_72  \n",
       "0             -0.120613             -0.119792  \n",
       "1             -0.120613             -0.119792  \n",
       "2             -0.120613             -0.119792  \n",
       "3             -0.120613             -0.119792  \n",
       "4             -1.760926             -1.760984  \n",
       "\n",
       "[5 rows x 168 columns]"
      ]
     },
     "execution_count": 34,
     "metadata": {},
     "output_type": "execute_result"
    }
   ],
   "source": [
    "selected_ids = df_class_feature.loc[(df_class_feature['class'] != 3), 'txId']\n",
    "df_edges_selected = df_edges.loc[df_edges['txId1'].isin(selected_ids)]\n",
    "df_classes_selected = df_classes.loc[df_classes['txId'].isin(selected_ids)]\n",
    "df_features_selected = df_features.loc[df_features['txId'].isin(selected_ids)]\n",
    "\n",
    "# Merge Class and features\n",
    "df_class_feature_selected = pd.merge(df_classes_selected, df_features_selected )\n",
    "df_class_feature_selected.head()"
   ]
  },
  {
   "cell_type": "code",
   "execution_count": 35,
   "metadata": {
    "execution": {
     "iopub.execute_input": "2020-11-17T14:47:42.414009Z",
     "iopub.status.busy": "2020-11-17T14:47:42.413145Z",
     "iopub.status.idle": "2020-11-17T14:47:42.468081Z",
     "shell.execute_reply": "2020-11-17T14:47:42.467298Z"
    },
    "papermill": {
     "duration": 0.11138,
     "end_time": "2020-11-17T14:47:42.468210",
     "exception": false,
     "start_time": "2020-11-17T14:47:42.356830",
     "status": "completed"
    },
    "tags": []
   },
   "outputs": [],
   "source": [
    "X = df_class_feature_selected.drop(columns=['txId', 'class', 'Time step']) # drop class, text id and time step\n",
    "y = df_class_feature_selected[['class']]\n",
    "\n",
    "# in this case, class 2 corresponds to licit transactions, we chang this to 0 as our interest is the ilicit transactions\n",
    "y = y['class'].apply(lambda x: 0 if x == '2' else 1 )"
   ]
  },
  {
   "cell_type": "markdown",
   "metadata": {
    "papermill": {
     "duration": 0.048249,
     "end_time": "2020-11-17T14:47:42.565091",
     "exception": false,
     "start_time": "2020-11-17T14:47:42.516842",
     "status": "completed"
    },
    "tags": []
   },
   "source": [
    "* Split train/test data"
   ]
  },
  {
   "cell_type": "code",
   "execution_count": 36,
   "metadata": {
    "execution": {
     "iopub.execute_input": "2020-11-17T14:47:42.669003Z",
     "iopub.status.busy": "2020-11-17T14:47:42.668216Z",
     "iopub.status.idle": "2020-11-17T14:47:42.730925Z",
     "shell.execute_reply": "2020-11-17T14:47:42.730226Z"
    },
    "papermill": {
     "duration": 0.118934,
     "end_time": "2020-11-17T14:47:42.731087",
     "exception": false,
     "start_time": "2020-11-17T14:47:42.612153",
     "status": "completed"
    },
    "tags": []
   },
   "outputs": [],
   "source": [
    "X_train, X_test, y_train, y_test = train_test_split(X,y,test_size=0.25,random_state=15)"
   ]
  },
  {
   "cell_type": "markdown",
   "metadata": {
    "papermill": {
     "duration": 0.045758,
     "end_time": "2020-11-17T14:47:42.824139",
     "exception": false,
     "start_time": "2020-11-17T14:47:42.778381",
     "status": "completed"
    },
    "tags": []
   },
   "source": [
    "## Random Forest Classifier"
   ]
  },
  {
   "cell_type": "code",
   "execution_count": 37,
   "metadata": {
    "execution": {
     "iopub.execute_input": "2020-11-17T14:47:42.964366Z",
     "iopub.status.busy": "2020-11-17T14:47:42.962726Z",
     "iopub.status.idle": "2020-11-17T14:48:01.344831Z",
     "shell.execute_reply": "2020-11-17T14:48:01.343896Z"
    },
    "papermill": {
     "duration": 18.466554,
     "end_time": "2020-11-17T14:48:01.344979",
     "exception": false,
     "start_time": "2020-11-17T14:47:42.878425",
     "status": "completed"
    },
    "tags": []
   },
   "outputs": [
    {
     "name": "stderr",
     "output_type": "stream",
     "text": [
      "C:\\Users\\ACER\\Anaconda3\\lib\\site-packages\\sklearn\\ensemble\\forest.py:245: FutureWarning: The default value of n_estimators will change from 10 in version 0.20 to 100 in 0.22.\n",
      "  \"10 in version 0.20 to 100 in 0.22.\", FutureWarning)\n"
     ]
    },
    {
     "name": "stdout",
     "output_type": "stream",
     "text": [
      "Random Forest Classifier\n",
      "Precision:0.994 \n",
      "Recall:0.878 \n",
      "F1 Score:0.933\n"
     ]
    }
   ],
   "source": [
    "model_RF = RandomForestClassifier().fit(X_train.values,y_train.values)\n",
    "y_preds = model_RF.predict(X_test.values)\n",
    "\n",
    "prec,rec,f1,num = precision_recall_fscore_support(y_test.values, y_preds)\n",
    "\n",
    "print(\"Random Forest Classifier\")\n",
    "print(\"Precision:%.3f \\nRecall:%.3f \\nF1 Score:%.3f\"%(prec[1],rec[1],f1[1]))"
   ]
  },
  {
   "cell_type": "markdown",
   "metadata": {
    "papermill": {
     "duration": 0.050186,
     "end_time": "2020-11-17T14:48:01.444743",
     "exception": false,
     "start_time": "2020-11-17T14:48:01.394557",
     "status": "completed"
    },
    "tags": []
   },
   "source": [
    "## Predicting 'unknown' transactions\n",
    "* Selecting 'unknown' ids"
   ]
  },
  {
   "cell_type": "code",
   "execution_count": 38,
   "metadata": {
    "execution": {
     "iopub.execute_input": "2020-11-17T14:48:01.584073Z",
     "iopub.status.busy": "2020-11-17T14:48:01.583257Z",
     "iopub.status.idle": "2020-11-17T14:48:01.738311Z",
     "shell.execute_reply": "2020-11-17T14:48:01.737590Z"
    },
    "papermill": {
     "duration": 0.243289,
     "end_time": "2020-11-17T14:48:01.738452",
     "exception": false,
     "start_time": "2020-11-17T14:48:01.495163",
     "status": "completed"
    },
    "tags": []
   },
   "outputs": [],
   "source": [
    "unknown_ids = df_class_feature.loc[(df_class_feature['class'] == 3), 'txId']\n",
    "\n",
    "df_edges_unknown = df_edges.loc[df_edges['txId1'].isin(unknown_ids)]\n",
    "df_classes_unknown = df_classes.loc[df_classes['txId'].isin(unknown_ids)]\n",
    "df_features_unknown = df_features.loc[df_features['txId'].isin(unknown_ids)]"
   ]
  },
  {
   "cell_type": "markdown",
   "metadata": {
    "papermill": {
     "duration": 0.050027,
     "end_time": "2020-11-17T14:48:01.838701",
     "exception": false,
     "start_time": "2020-11-17T14:48:01.788674",
     "status": "completed"
    },
    "tags": []
   },
   "source": [
    "* Predicting Class"
   ]
  },
  {
   "cell_type": "code",
   "execution_count": 39,
   "metadata": {
    "execution": {
     "iopub.execute_input": "2020-11-17T14:48:02.073092Z",
     "iopub.status.busy": "2020-11-17T14:48:02.071676Z",
     "iopub.status.idle": "2020-11-17T14:48:05.101242Z",
     "shell.execute_reply": "2020-11-17T14:48:05.101871Z"
    },
    "papermill": {
     "duration": 3.212227,
     "end_time": "2020-11-17T14:48:05.102054",
     "exception": false,
     "start_time": "2020-11-17T14:48:01.889827",
     "status": "completed"
    },
    "tags": []
   },
   "outputs": [],
   "source": [
    "X_unknown = df_features_unknown.drop(columns=['txId', 'Time step'])\n",
    "y_unknown_preds = model_RF.predict(X_unknown.values)"
   ]
  },
  {
   "cell_type": "markdown",
   "metadata": {
    "papermill": {
     "duration": 0.048292,
     "end_time": "2020-11-17T14:48:05.199964",
     "exception": false,
     "start_time": "2020-11-17T14:48:05.151672",
     "status": "completed"
    },
    "tags": []
   },
   "source": [
    "* Replacing 'unknown' class with the predicted one"
   ]
  },
  {
   "cell_type": "code",
   "execution_count": 40,
   "metadata": {
    "execution": {
     "iopub.execute_input": "2020-11-17T14:48:05.302004Z",
     "iopub.status.busy": "2020-11-17T14:48:05.300813Z",
     "iopub.status.idle": "2020-11-17T14:48:05.306976Z",
     "shell.execute_reply": "2020-11-17T14:48:05.307651Z"
    },
    "papermill": {
     "duration": 0.059853,
     "end_time": "2020-11-17T14:48:05.307816",
     "exception": false,
     "start_time": "2020-11-17T14:48:05.247963",
     "status": "completed"
    },
    "tags": []
   },
   "outputs": [],
   "source": [
    "df_classes_unknown = df_classes_unknown.copy()\n",
    "df_classes_unknown.loc[:, 'class'] = y_unknown_preds"
   ]
  },
  {
   "cell_type": "markdown",
   "metadata": {
    "papermill": {
     "duration": 0.047409,
     "end_time": "2020-11-17T14:48:05.402787",
     "exception": false,
     "start_time": "2020-11-17T14:48:05.355378",
     "status": "completed"
    },
    "tags": []
   },
   "source": [
    "* Merge class and features"
   ]
  },
  {
   "cell_type": "code",
   "execution_count": 41,
   "metadata": {
    "execution": {
     "iopub.execute_input": "2020-11-17T14:48:05.508048Z",
     "iopub.status.busy": "2020-11-17T14:48:05.506504Z",
     "iopub.status.idle": "2020-11-17T14:48:05.874465Z",
     "shell.execute_reply": "2020-11-17T14:48:05.875096Z"
    },
    "papermill": {
     "duration": 0.422938,
     "end_time": "2020-11-17T14:48:05.875258",
     "exception": false,
     "start_time": "2020-11-17T14:48:05.452320",
     "status": "completed"
    },
    "tags": []
   },
   "outputs": [
    {
     "data": {
      "text/html": [
       "<div>\n",
       "<style scoped>\n",
       "    .dataframe tbody tr th:only-of-type {\n",
       "        vertical-align: middle;\n",
       "    }\n",
       "\n",
       "    .dataframe tbody tr th {\n",
       "        vertical-align: top;\n",
       "    }\n",
       "\n",
       "    .dataframe thead th {\n",
       "        text-align: right;\n",
       "    }\n",
       "</style>\n",
       "<table border=\"1\" class=\"dataframe\">\n",
       "  <thead>\n",
       "    <tr style=\"text-align: right;\">\n",
       "      <th></th>\n",
       "      <th>txId</th>\n",
       "      <th>class</th>\n",
       "      <th>Time step</th>\n",
       "      <th>Local_feature_1</th>\n",
       "      <th>Local_feature_2</th>\n",
       "      <th>Local_feature_3</th>\n",
       "      <th>Local_feature_4</th>\n",
       "      <th>Local_feature_5</th>\n",
       "      <th>Local_feature_6</th>\n",
       "      <th>Local_feature_7</th>\n",
       "      <th>...</th>\n",
       "      <th>Aggregate_feature_63</th>\n",
       "      <th>Aggregate_feature_64</th>\n",
       "      <th>Aggregate_feature_65</th>\n",
       "      <th>Aggregate_feature_66</th>\n",
       "      <th>Aggregate_feature_67</th>\n",
       "      <th>Aggregate_feature_68</th>\n",
       "      <th>Aggregate_feature_69</th>\n",
       "      <th>Aggregate_feature_70</th>\n",
       "      <th>Aggregate_feature_71</th>\n",
       "      <th>Aggregate_feature_72</th>\n",
       "    </tr>\n",
       "  </thead>\n",
       "  <tbody>\n",
       "    <tr>\n",
       "      <td>0</td>\n",
       "      <td>230425980</td>\n",
       "      <td>0</td>\n",
       "      <td>1</td>\n",
       "      <td>-0.171469</td>\n",
       "      <td>-0.184668</td>\n",
       "      <td>-1.201369</td>\n",
       "      <td>-0.121970</td>\n",
       "      <td>-0.043875</td>\n",
       "      <td>-0.113002</td>\n",
       "      <td>-0.061584</td>\n",
       "      <td>...</td>\n",
       "      <td>-0.562153</td>\n",
       "      <td>-0.600999</td>\n",
       "      <td>1.461330</td>\n",
       "      <td>1.461369</td>\n",
       "      <td>0.018279</td>\n",
       "      <td>-0.087490</td>\n",
       "      <td>-0.131155</td>\n",
       "      <td>-0.097524</td>\n",
       "      <td>-0.120613</td>\n",
       "      <td>-0.119792</td>\n",
       "    </tr>\n",
       "    <tr>\n",
       "      <td>1</td>\n",
       "      <td>5530458</td>\n",
       "      <td>0</td>\n",
       "      <td>1</td>\n",
       "      <td>-0.171484</td>\n",
       "      <td>-0.184668</td>\n",
       "      <td>-1.201369</td>\n",
       "      <td>-0.121970</td>\n",
       "      <td>-0.043875</td>\n",
       "      <td>-0.113002</td>\n",
       "      <td>-0.061584</td>\n",
       "      <td>...</td>\n",
       "      <td>0.947382</td>\n",
       "      <td>0.673103</td>\n",
       "      <td>-0.979074</td>\n",
       "      <td>-0.978556</td>\n",
       "      <td>0.018279</td>\n",
       "      <td>-0.087490</td>\n",
       "      <td>-0.131155</td>\n",
       "      <td>-0.097524</td>\n",
       "      <td>-0.120613</td>\n",
       "      <td>-0.119792</td>\n",
       "    </tr>\n",
       "    <tr>\n",
       "      <td>2</td>\n",
       "      <td>232022460</td>\n",
       "      <td>0</td>\n",
       "      <td>1</td>\n",
       "      <td>-0.172107</td>\n",
       "      <td>-0.184668</td>\n",
       "      <td>-1.201369</td>\n",
       "      <td>-0.121970</td>\n",
       "      <td>-0.043875</td>\n",
       "      <td>-0.113002</td>\n",
       "      <td>-0.061584</td>\n",
       "      <td>...</td>\n",
       "      <td>0.670883</td>\n",
       "      <td>0.439728</td>\n",
       "      <td>-0.979074</td>\n",
       "      <td>-0.978556</td>\n",
       "      <td>-0.098889</td>\n",
       "      <td>-0.106715</td>\n",
       "      <td>-0.131155</td>\n",
       "      <td>-0.183671</td>\n",
       "      <td>-0.120613</td>\n",
       "      <td>-0.119792</td>\n",
       "    </tr>\n",
       "    <tr>\n",
       "      <td>3</td>\n",
       "      <td>230460314</td>\n",
       "      <td>0</td>\n",
       "      <td>1</td>\n",
       "      <td>1.011523</td>\n",
       "      <td>-0.081127</td>\n",
       "      <td>-1.201369</td>\n",
       "      <td>1.153668</td>\n",
       "      <td>0.333276</td>\n",
       "      <td>1.312656</td>\n",
       "      <td>-0.061584</td>\n",
       "      <td>...</td>\n",
       "      <td>-0.511871</td>\n",
       "      <td>-0.400422</td>\n",
       "      <td>0.517257</td>\n",
       "      <td>0.579382</td>\n",
       "      <td>0.018279</td>\n",
       "      <td>0.277775</td>\n",
       "      <td>0.326394</td>\n",
       "      <td>1.293750</td>\n",
       "      <td>0.178136</td>\n",
       "      <td>0.179117</td>\n",
       "    </tr>\n",
       "    <tr>\n",
       "      <td>4</td>\n",
       "      <td>230459870</td>\n",
       "      <td>0</td>\n",
       "      <td>1</td>\n",
       "      <td>0.961040</td>\n",
       "      <td>-0.081127</td>\n",
       "      <td>-1.201369</td>\n",
       "      <td>1.303743</td>\n",
       "      <td>0.333276</td>\n",
       "      <td>1.480381</td>\n",
       "      <td>-0.061584</td>\n",
       "      <td>...</td>\n",
       "      <td>-0.504702</td>\n",
       "      <td>-0.422589</td>\n",
       "      <td>-0.226790</td>\n",
       "      <td>-0.117629</td>\n",
       "      <td>0.018279</td>\n",
       "      <td>0.277775</td>\n",
       "      <td>0.413931</td>\n",
       "      <td>1.149556</td>\n",
       "      <td>-0.696053</td>\n",
       "      <td>-0.695540</td>\n",
       "    </tr>\n",
       "  </tbody>\n",
       "</table>\n",
       "<p>5 rows × 168 columns</p>\n",
       "</div>"
      ],
      "text/plain": [
       "        txId  class  Time step  Local_feature_1  Local_feature_2  \\\n",
       "0  230425980      0          1        -0.171469        -0.184668   \n",
       "1    5530458      0          1        -0.171484        -0.184668   \n",
       "2  232022460      0          1        -0.172107        -0.184668   \n",
       "3  230460314      0          1         1.011523        -0.081127   \n",
       "4  230459870      0          1         0.961040        -0.081127   \n",
       "\n",
       "   Local_feature_3  Local_feature_4  Local_feature_5  Local_feature_6  \\\n",
       "0        -1.201369        -0.121970        -0.043875        -0.113002   \n",
       "1        -1.201369        -0.121970        -0.043875        -0.113002   \n",
       "2        -1.201369        -0.121970        -0.043875        -0.113002   \n",
       "3        -1.201369         1.153668         0.333276         1.312656   \n",
       "4        -1.201369         1.303743         0.333276         1.480381   \n",
       "\n",
       "   Local_feature_7  ...  Aggregate_feature_63  Aggregate_feature_64  \\\n",
       "0        -0.061584  ...             -0.562153             -0.600999   \n",
       "1        -0.061584  ...              0.947382              0.673103   \n",
       "2        -0.061584  ...              0.670883              0.439728   \n",
       "3        -0.061584  ...             -0.511871             -0.400422   \n",
       "4        -0.061584  ...             -0.504702             -0.422589   \n",
       "\n",
       "   Aggregate_feature_65  Aggregate_feature_66  Aggregate_feature_67  \\\n",
       "0              1.461330              1.461369              0.018279   \n",
       "1             -0.979074             -0.978556              0.018279   \n",
       "2             -0.979074             -0.978556             -0.098889   \n",
       "3              0.517257              0.579382              0.018279   \n",
       "4             -0.226790             -0.117629              0.018279   \n",
       "\n",
       "   Aggregate_feature_68  Aggregate_feature_69  Aggregate_feature_70  \\\n",
       "0             -0.087490             -0.131155             -0.097524   \n",
       "1             -0.087490             -0.131155             -0.097524   \n",
       "2             -0.106715             -0.131155             -0.183671   \n",
       "3              0.277775              0.326394              1.293750   \n",
       "4              0.277775              0.413931              1.149556   \n",
       "\n",
       "   Aggregate_feature_71  Aggregate_feature_72  \n",
       "0             -0.120613             -0.119792  \n",
       "1             -0.120613             -0.119792  \n",
       "2             -0.120613             -0.119792  \n",
       "3              0.178136              0.179117  \n",
       "4             -0.696053             -0.695540  \n",
       "\n",
       "[5 rows x 168 columns]"
      ]
     },
     "execution_count": 41,
     "metadata": {},
     "output_type": "execute_result"
    }
   ],
   "source": [
    "df_class_feature_unknown = pd.merge(df_classes_unknown, df_features_unknown )\n",
    "df_class_feature_unknown.head()"
   ]
  },
  {
   "cell_type": "markdown",
   "metadata": {
    "papermill": {
     "duration": 0.056337,
     "end_time": "2020-11-17T14:48:05.984013",
     "exception": false,
     "start_time": "2020-11-17T14:48:05.927676",
     "status": "completed"
    },
    "tags": []
   },
   "source": [
    "## Predicted Graph"
   ]
  },
  {
   "cell_type": "code",
   "execution_count": 42,
   "metadata": {
    "execution": {
     "iopub.execute_input": "2020-11-17T14:48:06.098402Z",
     "iopub.status.busy": "2020-11-17T14:48:06.097559Z",
     "iopub.status.idle": "2020-11-17T14:48:07.243139Z",
     "shell.execute_reply": "2020-11-17T14:48:07.242484Z"
    },
    "papermill": {
     "duration": 1.204191,
     "end_time": "2020-11-17T14:48:07.243281",
     "exception": false,
     "start_time": "2020-11-17T14:48:06.039090",
     "status": "completed"
    },
    "tags": []
   },
   "outputs": [
    {
     "name": "stderr",
     "output_type": "stream",
     "text": [
      "C:\\Users\\ACER\\Anaconda3\\lib\\site-packages\\networkx\\drawing\\nx_pylab.py:579: MatplotlibDeprecationWarning: \n",
      "The iterable function was deprecated in Matplotlib 3.1 and will be removed in 3.3. Use np.iterable instead.\n",
      "  if not cb.iterable(width):\n",
      "C:\\Users\\ACER\\Anaconda3\\lib\\site-packages\\networkx\\drawing\\nx_pylab.py:676: MatplotlibDeprecationWarning: \n",
      "The iterable function was deprecated in Matplotlib 3.1 and will be removed in 3.3. Use np.iterable instead.\n",
      "  if cb.iterable(node_size):  # many node sizes\n"
     ]
    },
    {
     "data": {
      "image/png": "[encoded data removed]",
      "text/plain": [
       "<Figure size 432x288 with 1 Axes>"
      ]
     },
     "metadata": {},
     "output_type": "display_data"
    }
   ],
   "source": [
    "ilicit_ids = df_class_feature_unknown.loc[(df_class_feature_unknown['Time step'] == 20) & (df_class_feature_unknown['class'] == 1), 'txId']\n",
    "ilicit_edges = df_edges_unknown.loc[df_edges_unknown['txId1'].isin(ilicit_ids)]\n",
    "\n",
    "graph = nx.from_pandas_edgelist(ilicit_edges, source = 'txId1', target = 'txId2', \n",
    "                                 create_using = nx.DiGraph())\n",
    "pos = nx.spring_layout(graph)\n",
    "nx.draw(graph, with_labels=False, pos=pos)"
   ]
  },
  {
   "cell_type": "code",
   "execution_count": null,
   "metadata": {
    "papermill": {
     "duration": 0.054256,
     "end_time": "2020-11-17T14:48:07.349572",
     "exception": false,
     "start_time": "2020-11-17T14:48:07.295316",
     "status": "completed"
    },
    "tags": []
   },
   "outputs": [],
   "source": []
  },
  {
   "cell_type": "code",
   "execution_count": null,
   "metadata": {},
   "outputs": [],
   "source": []
  },
  {
   "cell_type": "code",
   "execution_count": null,
   "metadata": {},
   "outputs": [],
   "source": []
  },
  {
   "cell_type": "code",
   "execution_count": null,
   "metadata": {},
   "outputs": [],
   "source": []
  },
  {
   "cell_type": "code",
   "execution_count": null,
   "metadata": {},
   "outputs": [],
   "source": []
  },
  {
   "cell_type": "code",
   "execution_count": null,
   "metadata": {},
   "outputs": [],
   "source": []
  },
  {
   "cell_type": "code",
   "execution_count": null,
   "metadata": {},
   "outputs": [],
   "source": []
  }
 ],
 "metadata": {
  "kernelspec": {
   "display_name": "Python 3",
   "language": "python",
   "name": "python3"
  },
  "language_info": {
   "codemirror_mode": {
    "name": "ipython",
    "version": 3
   },
   "file_extension": ".py",
   "mimetype": "text/x-python",
   "name": "python",
   "nbconvert_exporter": "python",
   "pygments_lexer": "ipython3",
   "version": "3.7.4"
  },
  "papermill": {
   "duration": 65.816565,
   "end_time": "2020-11-17T14:48:07.509108",
   "environment_variables": {},
   "exception": null,
   "input_path": "__notebook__.ipynb",
   "output_path": "__notebook__.ipynb",
   "parameters": {},
   "start_time": "2020-11-17T14:47:01.692543",
   "version": "2.1.0"
  }
 },
 "nbformat": 4,
 "nbformat_minor": 4
}
